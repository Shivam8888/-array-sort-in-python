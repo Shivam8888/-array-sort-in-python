{
 "cells": [
  {
   "cell_type": "code",
   "execution_count": 2,
   "id": "a3449f1d",
   "metadata": {},
   "outputs": [
    {
     "name": "stdout",
     "output_type": "stream",
     "text": [
      "[5, 7, 12, 54, 66, 88, 89, 99]\n"
     ]
    }
   ],
   "source": [
    "arr=[12,54,5,99,7,89,66,88]\n",
    "for i in range(len(arr)):\n",
    "  for j in range(i+1,len(arr)):\n",
    "    if arr[i]>arr[j]:\n",
    "      arr[i],arr[j]=arr[j],arr[i]\n",
    "print(arr)"
   ]
  },
  {
   "cell_type": "code",
   "execution_count": null,
   "id": "e40ac306",
   "metadata": {},
   "outputs": [],
   "source": []
  }
 ],
 "metadata": {
  "kernelspec": {
   "display_name": "Python 3",
   "language": "python",
   "name": "python3"
  },
  "language_info": {
   "codemirror_mode": {
    "name": "ipython",
    "version": 3
   },
   "file_extension": ".py",
   "mimetype": "text/x-python",
   "name": "python",
   "nbconvert_exporter": "python",
   "pygments_lexer": "ipython3",
   "version": "3.8.8"
  }
 },
 "nbformat": 4,
 "nbformat_minor": 5
}
